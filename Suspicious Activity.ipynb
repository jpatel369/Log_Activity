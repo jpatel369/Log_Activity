{
 "cells": [
  {
   "cell_type": "code",
   "execution_count": 6,
   "metadata": {},
   "outputs": [],
   "source": [
    "file = open('userlog.log', 'r')\n",
    "i = 0\n",
    "\n",
    "dict = {}\n",
    "for line in file:\n",
    "\tif (i > 0):\n",
    "\t\tline = line.strip().split(\"\\t\\t\")\n",
    "\t\ttime=line[0].strip()\n",
    "\t\tway =line[1].strip()\n",
    "\t\tsystem=line[2].strip()\n",
    "\t\tuser=line[3].strip()\n",
    "\t\tif user not in dict:\n",
    "\t\t\tdict[user] = [(time, way, system, user)]\n",
    "\t\telse:\n",
    "\t\t\tdict[user].append((time, way, system, user))\n",
    "\ti += 1\n",
    "\n",
    "# Suspicious activities \n",
    "file1=open('suspicious_report.txt','w')\n",
    "for key in dict:\n",
    "\ttemp_dict = {}\n",
    "\tfault=False\n",
    "\tfor array in dict[key]:\n",
    "\t\tdate=array[0].split(\" \")[0]\n",
    "\t\tactivity=array[1]\n",
    "\t\tif (activity==\"login\"):\n",
    "\t\t\tif date not in temp_dict:\n",
    "\t\t\t\ttemp_dict[date]=[(1, array[2], activity, array[0].split(\" \")[1])]\n",
    "\t\t\telse:\n",
    "\t\t\t\ttemp_dict[date].append((1, array[2], activity, array[0].split(\" \")[1]))\n",
    "\tl = []\n",
    "\tfor keys in temp_dict:\n",
    "\t\tif (len(temp_dict[keys]) > 5 and keys not in l):\n",
    "\t\t\tl.append(keys)\n",
    "\n",
    "\tfor array in dict[key]:\n",
    "\t\tdate=array[0].split(\" \")[0]\n",
    "\t\tactivity=array[1]\n",
    "\t\thour=int(array[0].split(\" \")[1].split(\":\")[0])\n",
    "\t\tif (hour >= 0 and hour < 5 and activity==\"login\"):\n",
    "\t\t\ttemp_dict[date]=[(1, array[2], activity, array[0].split(\" \")[1])]\n",
    "\t\t\tl.append(date)\n",
    "\n",
    "\tl.sort()\n",
    "\tif (len(l)>0):\n",
    "\t\tfile1.write(key+\"\\t\\t\"+str(len(l))+\"\\n\")\n",
    "\t\tfor keys in l:\n",
    "\t\t\tfile1.write(\"\\t\\tDATE: [\"+keys+\"]\\n\")\n",
    "\t\t\tvalues = temp_dict[keys]\n",
    "\t\t\tfor value in values:\n",
    "\t\t\t\tfile1.write(\"\\t\\t\\t\"+value[3]+\"\\t\\t\"+value[2]+\"\\t\\t\"+value[1]+\"\\n\")\n",
    "\tfile1.write(\"\\n\\n\")\n",
    "\t\n",
    "file1.close()\n",
    "\n",
    "\n",
    "    \n",
    "\n"
   ]
  },
  {
   "cell_type": "code",
   "execution_count": null,
   "metadata": {},
   "outputs": [],
   "source": []
  }
 ],
 "metadata": {
  "kernelspec": {
   "display_name": "Python 3",
   "language": "python",
   "name": "python3"
  },
  "language_info": {
   "codemirror_mode": {
    "name": "ipython",
    "version": 3
   },
   "file_extension": ".py",
   "mimetype": "text/x-python",
   "name": "python",
   "nbconvert_exporter": "python",
   "pygments_lexer": "ipython3",
   "version": "3.8.3"
  }
 },
 "nbformat": 4,
 "nbformat_minor": 4
}
