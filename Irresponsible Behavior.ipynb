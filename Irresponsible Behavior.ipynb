{
 "cells": [
  {
   "cell_type": "code",
   "execution_count": 2,
   "metadata": {},
   "outputs": [],
   "source": [
    "file = open('userlog.log', 'r')\n",
    "i = 0\n",
    "\n",
    "dict = {}\n",
    "for line in file:\n",
    "\tif (i > 0):\n",
    "\t\tline = line.strip().split(\"\\t\\t\")\n",
    "\t\ttime=line[0].strip()\n",
    "\t\tway =line[1].strip()\n",
    "\t\tsystem=line[2].strip()\n",
    "\t\tuser=line[3].strip()\n",
    "\t\tif user not in dict:\n",
    "\t\t\tdict[user] = [(time, way, system, user)]\n",
    "\t\telse:\n",
    "\t\t\tdict[user].append((time, way, system, user))\n",
    "\ti += 1\n",
    "# Irresponsible behavior \n",
    "file2=open('irresponsible_report.txt','w')\n",
    "for key in dict:\n",
    "\ttemp_dict = {}\n",
    "\tfor array in dict[key]:\n",
    "\t\tdate=array[0].split(\" \")[0]\n",
    "\t\tactivity=array[1]\n",
    "\t\tif date not in temp_dict:\n",
    "\t\t\ttemp_dict[date]=[(1, array[2], activity, array[0].split(\" \")[1])]\n",
    "\t\telse:\n",
    "\t\t\ttemp_dict[date].append((1, array[2], activity, array[0].split(\" \")[1]))\n",
    "\tl = []\n",
    "\tfor keys in temp_dict:\n",
    "\t\tlogin_count = 0\n",
    "\t\tlogout_count = 0\n",
    "\t\tfor values in temp_dict[keys]:\n",
    "\t\t\tif (values[2]=='login'):\n",
    "\t\t\t\tlogin_count += 1\n",
    "\t\t\telse:\n",
    "\t\t\t\tlogout_count += 1\n",
    "\t\tif (login_count>logout_count):\n",
    "\t\t\tif keys not in l:\n",
    "\t\t\t\tl.append(keys)\n",
    "\tl.sort()\n",
    "\tif (len(l)>0):\n",
    "\t\tfile2.write(key+\"\\t\\t\"+str(len(l))+\"\\n\")\n",
    "\t\tfor keys in l:\n",
    "\t\t\tfile2.write(\"\\t\\tDATE: [\"+keys+\"]\\n\")\n",
    "\t\t\tvalues = temp_dict[keys]\n",
    "\t\t\tfor value in values:\n",
    "\t\t\t\tfile2.write(\"\\t\\t\\t\"+value[3]+\"\\t\\t\"+value[2]+\"\\t\\t\"+value[1]+\"\\n\")\n",
    "\tfile2.write(\"\\n\\n\")\n",
    "file2.close()"
   ]
  },
  {
   "cell_type": "code",
   "execution_count": null,
   "metadata": {},
   "outputs": [],
   "source": []
  }
 ],
 "metadata": {
  "kernelspec": {
   "display_name": "Python 3",
   "language": "python",
   "name": "python3"
  },
  "language_info": {
   "codemirror_mode": {
    "name": "ipython",
    "version": 3
   },
   "file_extension": ".py",
   "mimetype": "text/x-python",
   "name": "python",
   "nbconvert_exporter": "python",
   "pygments_lexer": "ipython3",
   "version": "3.8.3"
  }
 },
 "nbformat": 4,
 "nbformat_minor": 4
}
