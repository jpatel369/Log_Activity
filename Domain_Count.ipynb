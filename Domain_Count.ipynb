{
 "cells": [
  {
   "cell_type": "code",
   "execution_count": 38,
   "metadata": {},
   "outputs": [
    {
     "name": "stdout",
     "output_type": "stream",
     "text": [
      "{'2020-05-26': ['aubrea.corridoni@yahoo.com.mx', 'aubrea.corridoni@yahoo.com.mx', 'aubrea.corridoni@yahoo.com.mx'], '2020-05-04': ['aubrea.corridoni@yahoo.com.mx', 'aubrea.corridoni@yahoo.com.mx', 'aubrea.corridoni@yahoo.com.mx', 'aubrea.corridoni@yahoo.com.mx'], '2020-05-12': ['aubrea.corridoni@yahoo.com.mx', 'aubrea.corridoni@yahoo.com.mx'], '2020-05-03': ['aubrea.corridoni@yahoo.com.mx', 'aubrea.corridoni@yahoo.com.mx', 'aubrea.corridoni@yahoo.com.mx', 'aubrea.corridoni@yahoo.com.mx', 'aubrea.corridoni@yahoo.com.mx'], '2020-05-13': ['aubrea.corridoni@yahoo.com.mx', 'aubrea.corridoni@yahoo.com.mx'], '2020-05-17': ['aubrea.corridoni@yahoo.com.mx', 'aubrea.corridoni@yahoo.com.mx'], '2020-05-27': ['aubrea.corridoni@yahoo.com.mx', 'aubrea.corridoni@yahoo.com.mx', 'aubrea.corridoni@yahoo.com.mx'], '2020-05-28': ['aubrea.corridoni@yahoo.com.mx', 'aubrea.corridoni@yahoo.com.mx', 'aubrea.corridoni@yahoo.com.mx', 'aubrea.corridoni@yahoo.com.mx', 'aubrea.corridoni@yahoo.com.mx', 'aubrea.corridoni@yahoo.com.mx'], '2020-05-01': ['aubrea.corridoni@yahoo.com.mx', 'aubrea.corridoni@yahoo.com.mx', 'aubrea.corridoni@yahoo.com.mx', 'aubrea.corridoni@yahoo.com.mx', 'aubrea.corridoni@yahoo.com.mx'], '2020-05-06': ['aubrea.corridoni@yahoo.com.mx', 'aubrea.corridoni@yahoo.com.mx', 'aubrea.corridoni@yahoo.com.mx', 'aubrea.corridoni@yahoo.com.mx', 'aubrea.corridoni@yahoo.com.mx', 'aubrea.corridoni@yahoo.com.mx'], '2020-05-11': ['aubrea.corridoni@yahoo.com.mx', 'aubrea.corridoni@yahoo.com.mx', 'aubrea.corridoni@yahoo.com.mx'], '2020-05-18': ['aubrea.corridoni@yahoo.com.mx', 'aubrea.corridoni@yahoo.com.mx', 'aubrea.corridoni@yahoo.com.mx', 'aubrea.corridoni@yahoo.com.mx'], '2020-05-23': ['aubrea.corridoni@yahoo.com.mx'], '2020-05-24': ['aubrea.corridoni@yahoo.com.mx', 'aubrea.corridoni@yahoo.com.mx', 'aubrea.corridoni@yahoo.com.mx'], '2020-05-29': ['aubrea.corridoni@yahoo.com.mx', 'aubrea.corridoni@yahoo.com.mx', 'aubrea.corridoni@yahoo.com.mx'], '2020-05-20': ['aubrea.corridoni@yahoo.com.mx', 'aubrea.corridoni@yahoo.com.mx', 'aubrea.corridoni@yahoo.com.mx', 'aubrea.corridoni@yahoo.com.mx'], '2020-05-05': ['aubrea.corridoni@yahoo.com.mx', 'aubrea.corridoni@yahoo.com.mx', 'aubrea.corridoni@yahoo.com.mx', 'aubrea.corridoni@yahoo.com.mx'], '2020-05-08': ['aubrea.corridoni@yahoo.com.mx', 'aubrea.corridoni@yahoo.com.mx', 'aubrea.corridoni@yahoo.com.mx', 'aubrea.corridoni@yahoo.com.mx'], '2020-05-07': ['aubrea.corridoni@yahoo.com.mx', 'aubrea.corridoni@yahoo.com.mx'], '2020-05-15': ['aubrea.corridoni@yahoo.com.mx', 'aubrea.corridoni@yahoo.com.mx', 'aubrea.corridoni@yahoo.com.mx', 'aubrea.corridoni@yahoo.com.mx', 'aubrea.corridoni@yahoo.com.mx', 'aubrea.corridoni@yahoo.com.mx'], '2020-05-16': ['aubrea.corridoni@yahoo.com.mx', 'aubrea.corridoni@yahoo.com.mx', 'aubrea.corridoni@yahoo.com.mx', 'aubrea.corridoni@yahoo.com.mx', 'aubrea.corridoni@yahoo.com.mx'], '2020-05-09': ['aubrea.corridoni@yahoo.com.mx', 'aubrea.corridoni@yahoo.com.mx', 'aubrea.corridoni@yahoo.com.mx'], '2020-05-19': ['aubrea.corridoni@yahoo.com.mx', 'aubrea.corridoni@yahoo.com.mx'], '2020-05-10': ['aubrea.corridoni@yahoo.com.mx', 'aubrea.corridoni@yahoo.com.mx', 'aubrea.corridoni@yahoo.com.mx', 'aubrea.corridoni@yahoo.com.mx'], '2020-05-02': ['aubrea.corridoni@yahoo.com.mx', 'aubrea.corridoni@yahoo.com.mx'], '2020-05-14': ['aubrea.corridoni@yahoo.com.mx'], '2020-05-30': ['aubrea.corridoni@yahoo.com.mx'], '2020-05-22': ['aubrea.corridoni@yahoo.com.mx', 'aubrea.corridoni@yahoo.com.mx'], '2020-05-21': ['aubrea.corridoni@yahoo.com.mx']}\n"
     ]
    },
    {
     "data": {
      "text/plain": [
       "29"
      ]
     },
     "execution_count": 38,
     "metadata": {},
     "output_type": "execute_result"
    }
   ],
   "source": [
    "f = open('userlog.log', 'r')\n",
    "i = 0\n",
    "\n",
    "dict = {}\n",
    "for line in f:\n",
    "    if (i > 0):\n",
    "        line = line.strip().split(\"\\t\\t\")\n",
    "        time = line[0].strip()\n",
    "        way = line[1].strip()\n",
    "        system = line[2].strip()\n",
    "        user = line[3].strip()\n",
    "        if user not in dict:\n",
    "            dict[user] = [(time, way, system, user)]\n",
    "        else:\n",
    "            dict[user].append((time, way, system, user))\n",
    "    i += 1\n",
    "\n",
    "f2 = open('domain_report.txt', 'w')\n",
    "\n",
    "for key in dict:\n",
    "    temp_dict = {}\n",
    "    for array in dict[key]:\n",
    "        date = array[0].split(\" \")[0]\n",
    "        activity = array[3]\n",
    "        if date not in temp_dict:\n",
    "            temp_dict[date]=[(activity)]\n",
    "        else:\n",
    "            temp_dict[date].append((activity))\n",
    "print(temp_dict)\n",
    "f2.write(array[3])\n",
    "  #  l = []\n",
    "   \n",
    "   # l.sort()\n",
    "    #if (len(l)>0):\n",
    "     #   f2.write(key + \"\\t\\t\" + str(len(l)) + \"\\n\")\n",
    "      #  for keys in l:\n",
    "       #     f2.write(\"\\t\\tDATE: [\"+keys+\"]\\n\")\n",
    "        #    values = temp_dict[keys]\n",
    "         #   for value in values:\n",
    "          #      f2.write(\"\\t\\t\\t\" + value[3] + \"\\t\\t\" + value[2] + \"\\t\\t\" + value[1] + \"\\n\")\n",
    "    #f2.write(\"\\n\\n\")\n",
    "#f2.close()   \n"
   ]
  },
  {
   "cell_type": "code",
   "execution_count": null,
   "metadata": {},
   "outputs": [],
   "source": []
  },
  {
   "cell_type": "code",
   "execution_count": null,
   "metadata": {},
   "outputs": [],
   "source": []
  }
 ],
 "metadata": {
  "kernelspec": {
   "display_name": "Python 3",
   "language": "python",
   "name": "python3"
  },
  "language_info": {
   "codemirror_mode": {
    "name": "ipython",
    "version": 3
   },
   "file_extension": ".py",
   "mimetype": "text/x-python",
   "name": "python",
   "nbconvert_exporter": "python",
   "pygments_lexer": "ipython3",
   "version": "3.8.5"
  }
 },
 "nbformat": 4,
 "nbformat_minor": 4
}
