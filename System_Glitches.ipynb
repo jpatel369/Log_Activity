{
 "cells": [
  {
   "cell_type": "code",
   "execution_count": 9,
   "metadata": {},
   "outputs": [],
   "source": [
    "f = open('userlog.log', 'r')\n",
    "i = 0\n",
    "\n",
    "dict = {}\n",
    "for line in f:\n",
    "    if (i > 0):\n",
    "        line = line.strip().split(\"\\t\\t\")\n",
    "        time = line[0].strip()\n",
    "        way = line[1].strip()\n",
    "        system = line[2].strip()\n",
    "        user = line[3].strip()\n",
    "        if user not in dict:\n",
    "            dict[user] = [(time, way, system, user)]\n",
    "        else:\n",
    "            dict[user].append((time, way, system, user))\n",
    "    i += 1\n",
    "\n",
    "f2 = open('glitch_report.txt', 'w')\n",
    "\n",
    "for key in dict:\n",
    "    temp_dict = {}\n",
    "    for array in dict[key]:\n",
    "        date = array[0].split(\" \")[0]\n",
    "        activity = array[1]\n",
    "        if date not in temp_dict:\n",
    "            temp_dict[date]=[(1, array[2], activity, array[0].split(\" \")[1])]\n",
    "        else:\n",
    "            temp_dict[date].append((1, array[2], activity, array[0].split(\" \")[1]))\n",
    "    l = []\n",
    "    for keys in temp_dict:\n",
    "        login_count = 0\n",
    "        logout_count = 0\n",
    "        for values in temp_dict[keys]:\n",
    "            if (values[2] == 'login'):\n",
    "                login_count += 1\n",
    "            else:\n",
    "                logout_count += 1\n",
    "        if (logout_count>login_count):\n",
    "            if keys not in l:\n",
    "                l.append(keys)\n",
    "    l.sort()\n",
    "    if (len(l)>0):\n",
    "        f2.write(key + \"\\t\\t\" + str(len(l)) + \"\\n\")\n",
    "        for keys in l:\n",
    "            f2.write(\"\\t\\tDATE: [\"+keys+\"]\\n\")\n",
    "            values = temp_dict[keys]\n",
    "            for value in values:\n",
    "                f2.write(\"\\t\\t\\t\" + value[3] + \"\\t\\t\" + value[2] + \"\\t\\t\" + value[1] + \"\\n\")\n",
    "    f2.write(\"\\n\\n\")\n",
    "f2.close()   "
   ]
  },
  {
   "cell_type": "code",
   "execution_count": null,
   "metadata": {},
   "outputs": [],
   "source": []
  }
 ],
 "metadata": {
  "kernelspec": {
   "display_name": "Python 3",
   "language": "python",
   "name": "python3"
  },
  "language_info": {
   "codemirror_mode": {
    "name": "ipython",
    "version": 3
   },
   "file_extension": ".py",
   "mimetype": "text/x-python",
   "name": "python",
   "nbconvert_exporter": "python",
   "pygments_lexer": "ipython3",
   "version": "3.8.5"
  }
 },
 "nbformat": 4,
 "nbformat_minor": 4
}
